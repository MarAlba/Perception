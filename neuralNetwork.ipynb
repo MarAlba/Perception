{
 "cells": [
  {
   "cell_type": "code",
   "execution_count": 2,
   "metadata": {},
   "outputs": [
    {
     "name": "stdout",
     "output_type": "stream",
     "text": [
      "Populating the interactive namespace from numpy and matplotlib\n"
     ]
    },
    {
     "name": "stderr",
     "output_type": "stream",
     "text": [
      "Using TensorFlow backend.\n"
     ]
    }
   ],
   "source": [
    "%pylab inline\n",
    "import cv2\n",
    "import glob\n",
    "import os\n",
    "import numpy as np\n",
    "import tensorflow as tf\n",
    "from tensorflow import keras\n",
    "import scipy\n",
    "import scipy.io\n",
    "import matplotlib.pyplot as plt\n",
    "from keras.applications.vgg19 import decode_predictions\n",
    "#https://github.com/davidgengenbach/vgg-caffe/blob/master/data/labels.txt"
   ]
  },
  {
   "cell_type": "code",
   "execution_count": 3,
   "metadata": {},
   "outputs": [],
   "source": [
    "model = tf.keras.applications.VGG19(\n",
    "        include_top=True,\n",
    "        weights=\"imagenet\",\n",
    "        input_tensor=None,\n",
    "        input_shape=None,\n",
    "        pooling=None,\n",
    "        classes=1000,\n",
    "    )"
   ]
  },
  {
   "cell_type": "code",
   "execution_count": 25,
   "metadata": {},
   "outputs": [
    {
     "name": "stdout",
     "output_type": "stream",
     "text": [
      "0 ('n02840245', 'binder', 0.26991037)\n",
      "1 ('n02971356', 'carton', 0.26487443)\n",
      "238 ('n07930864', 'cup', 5.1091527e-05)\n",
      "cup\n"
     ]
    }
   ],
   "source": [
    "def classifyImage(image):\n",
    "    #Input image, output class, confidence\n",
    "    \n",
    "    # resize image to 244 x 244 which is input for VGG19\n",
    "    resize_number = min(224/image.shape[1],224/image.shape[0])\n",
    "    resized_image = cv2.resize(image, (0,0), fx=resize_number, fy=resize_number) \n",
    "    pad_image = cv2.copyMakeBorder( resized_image,int(ceil((224-resized_image.shape[0])/2)), int(floor((224-resized_image.shape[0])/2)), int(ceil((224-resized_image.shape[1])/2)), int(floor((224-resized_image.shape[1])/2)), cv2.BORDER_REPLICATE)\n",
    "    #plt.imshow(zeropad_image)\n",
    "    \n",
    "    \n",
    "    '''\n",
    "    # convert the probabilities to class labels\n",
    "    label = decode_predictions(yhat)\n",
    "    # retrieve the most likely result, e.g. highest probability\n",
    "    label = label[0][0]\n",
    "    # print the classification\n",
    "    print(decode_predictions(yhat))\n",
    "    print('%s (%.2f%%)' % (label[1], label[2]*100))'''\n",
    "    \n",
    "    #make the prediction on rezised image\n",
    "    yhat = model.predict(np.array([pad_image]))\n",
    "    \n",
    "    # decode the predictions, get the first 250\n",
    "    out = decode_predictions(yhat, top = 250)\n",
    "    itemlist = [\"n02840245\",\"n07930864\",\"n02971356\"]\n",
    "    itemname = [\"binder\",\"cup\",\"carton\"]\n",
    "    itemarray = np.array([])\n",
    "    \n",
    "    #Filter the predictions with itemlist\n",
    "    for index, item in enumerate(out[0]):\n",
    "        for i in itemlist:\n",
    "            if (item[0]) == (i):\n",
    "                itemarray=np.append(itemarray,item)\n",
    "                print ( str(index) + \" \" + str(item))\n",
    "    reshaped_itemarray = itemarray.reshape(-1,3)\n",
    "    #print(reshaped_itemarray[argmax(reshaped_itemarray[:,2])][1])\n",
    "    if(len(reshaped_itemarray) > 0 ):\n",
    "        #Return class and confidence\n",
    "        return reshaped_itemarray[argmax(reshaped_itemarray[:,2])][1],reshaped_itemarray[argmax(reshaped_itemarray[:,2])][2]\n",
    "    else: return(-1,-1)\n",
    "image = cv2.imread('../Data/nnData/0007.png')\n",
    "classname, confidence = classifyImage(image)\n",
    "print(classname)\n"
   ]
  },
  {
   "cell_type": "code",
   "execution_count": null,
   "metadata": {},
   "outputs": [],
   "source": []
  }
 ],
 "metadata": {
  "kernelspec": {
   "display_name": "Python 3",
   "language": "python",
   "name": "python3"
  },
  "language_info": {
   "codemirror_mode": {
    "name": "ipython",
    "version": 3
   },
   "file_extension": ".py",
   "mimetype": "text/x-python",
   "name": "python",
   "nbconvert_exporter": "python",
   "pygments_lexer": "ipython3",
   "version": "3.7.4"
  }
 },
 "nbformat": 4,
 "nbformat_minor": 2
}
