{
 "cells": [
  {
   "cell_type": "markdown",
   "metadata": {},
   "source": [
    "# Kalman Filter"
   ]
  },
  {
   "cell_type": "code",
   "execution_count": 1,
   "metadata": {},
   "outputs": [],
   "source": [
    "import numpy as np\n",
    "import matplotlib.pyplot as plt\n",
    "#from optical_flow.ipynb import position"
   ]
  },
  {
   "attachments": {
    "Kalman.png": {
     "image/png": "[encoded data removed]"
    }
   },
   "cell_type": "markdown",
   "metadata": {},
   "source": [
    "# Exercise 2c\n",
    "\n",
    "It's now time to look at the more general equations of the Kalman filter. We would like to apply a Kalman filter for a robot moving in 1D. We would like to track and predict its position and its velocity. \n",
    "\n",
    "A quick summary of the variables:\n",
    "\n",
    "**x** : The state matrix. Holds the state of the robot, which is its position and velocity.\n",
    "\n",
    "**P** : The uncertainty of the state.\n",
    "\n",
    "**u** : The external motion. In this case there will not be an external motion affecting the robot.\n",
    "\n",
    "**F** : The transition matrix (or next state function). Used to predict the next state of the robot.\n",
    "\n",
    "**H** : The observation matrix (or measurement function). Used to update the robot state.\n",
    "\n",
    "**R** : The measurement uncertainty. \n",
    "\n",
    "**I** : Identity matrix.\n",
    "\n",
    "You will now have to implement your own update and predict function using the formulas given here. All the matrices are given in the code below. \n",
    "\n",
    "When you multiply matrices together you can use [np.dot](https://docs.scipy.org/doc/numpy/reference/generated/numpy.dot.html). To get the inverse of a matrix, you can use [np.linalg.pinv](https://docs.scipy.org/doc/numpy/reference/generated/numpy.linalg.pinv.html). To get the transpose you can use [np.transpose](https://docs.scipy.org/doc/numpy/reference/generated/numpy.transpose.html).\n",
    "\n",
    "The two equations written in black are the equations used for prediction and the rest are the equations used for updating.\n",
    "\n",
    "![Kalman.png](attachment:Kalman.png)"
   ]
  },
  {
   "cell_type": "code",
   "execution_count": 2,
   "metadata": {},
   "outputs": [
    {
     "name": "stdout",
     "output_type": "stream",
     "text": [
      "1017\n"
     ]
    }
   ],
   "source": [
    "p=[[1018, 322],[1017, 322], [1014, 323],[1012, 324],[1010, 324]]"
   ]
  },
  {
   "cell_type": "code",
   "execution_count": 6,
   "metadata": {},
   "outputs": [
    {
     "name": "stdout",
     "output_type": "stream",
     "text": [
      "[[1018.]\n",
      " [   0.]] [[322.]\n",
      " [  0.]]\n",
      "[[ 1.01600299e+03]\n",
      " [-9.98004987e-01]] [[322.]\n",
      " [  0.]]\n",
      "[[1012.33555354]\n",
      " [  -1.99883455]] [[323.33272281]\n",
      " [  0.49966703]]\n",
      "[[1010.00124928]\n",
      " [  -2.09946038]] [[324.49950032]\n",
      " [  0.69977017]]\n",
      "[[1007.90078965]\n",
      " [  -2.09971016]] [[324.79974013]\n",
      " [  0.59990006]]\n"
     ]
    }
   ],
   "source": [
    "# The initial state. The robot starts in position 0 with the velocity 0.\n",
    "x = np.array([[p[0][0]], # Position along the x-axis\n",
    "              [0]])# Velocity along the x-axis\n",
    "y = np.array([[p[0][1]], # Velocity along the y-axis\n",
    "              [0]])# Velocity along the y-axis\n",
    "\n",
    "# The initial uncertainty. We start with some very large values.\n",
    "P_x = np.array([[1000, 0],\n",
    "              [0, 1000]])\n",
    "P_y = np.array([[1000, 0],\n",
    "              [0, 1000]])\n",
    "\n",
    "# The external motion. Set to 0 here.\n",
    "u = np.array([[0],\n",
    "              [0]])\n",
    "\n",
    "# The transition matrix. \n",
    "F = np.array([[1, 1],\n",
    "              [0, 1]])\n",
    "\n",
    "# The observation matrix. We only get the position as measurement.\n",
    "H = np.array([[1, 0]])\n",
    "\n",
    "# The measurement uncertainty\n",
    "R = 1\n",
    "\n",
    "# The identity matrix. Simply a matrix with 1 in the diagonal and 0 elsewhere.\n",
    "I = np.array([[1, 0],\n",
    "              [0, 1]])\n",
    "\n",
    "# You can use the following measurements or come up with your own. \n",
    "measurements_x = [p[0][0], p[1][0], p[2][0], p[3][0], p[4][0]]\n",
    "measurements_y = [p[0][1], p[1][1], p[2][1], p[3][1], p[4][1]]\n",
    "\n",
    "\n",
    "def update(x, P, Z, H, R):\n",
    "    # Insert update function\n",
    "    Y = Z-H@x\n",
    "    S = H@P@np.transpose(H) + R\n",
    "    K = P@np.transpose(H)@np.linalg.pinv(S)\n",
    "    x = x+K@Y\n",
    "    P = (I-K@H)@P\n",
    "    \n",
    "    return [x,P]\n",
    "    \n",
    "def predict(x, P, F, u):\n",
    "    ### insert predict function\n",
    "    x = F@x + u\n",
    "    P = F@P@np.transpose(F)\n",
    "    \n",
    "    return [x,P]\n",
    "    \n",
    "### Loop through the measurements ###\n",
    "for i in range(0,len(measurements_x)):\n",
    "    [x,P_x] = update(x, P_x, measurements_x[i], H, R)\n",
    "    [x,P_x] = predict(x, P_x, F, u)\n",
    "    [y,P_y] = update(y, P_y, measurements_y[i], H, R)\n",
    "    [y,P_y] = predict(y, P_y, F, u)    \n",
    "    \n",
    "    print(x,y)\n",
    "    \n",
    "p=[[1018, 322],[1017, 322], [1014, 323],[1012, 324],[1010, 324]]"
   ]
  },
  {
   "cell_type": "code",
   "execution_count": null,
   "metadata": {},
   "outputs": [],
   "source": [
    "#to do:\n",
    "#occlusion area?\n",
    "#hand\n",
    "#change object\n",
    "#video friendly\n",
    "#bounding box\n",
    "#clean it "
   ]
  }
 ],
 "metadata": {
  "kernelspec": {
   "display_name": "Python 3",
   "language": "python",
   "name": "python3"
  },
  "language_info": {
   "codemirror_mode": {
    "name": "ipython",
    "version": 3
   },
   "file_extension": ".py",
   "mimetype": "text/x-python",
   "name": "python",
   "nbconvert_exporter": "python",
   "pygments_lexer": "ipython3",
   "version": "3.6.9"
  }
 },
 "nbformat": 4,
 "nbformat_minor": 2
}
